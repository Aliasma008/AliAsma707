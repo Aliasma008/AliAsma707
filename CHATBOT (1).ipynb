{
 "cells": [
  {
   "cell_type": "code",
   "execution_count": 1,
   "id": "afc76c11-d2fd-44b6-8d91-c43616b8f059",
   "metadata": {},
   "outputs": [
    {
     "name": "stderr",
     "output_type": "stream",
     "text": [
      "[nltk_data] Downloading package punkt to\n",
      "[nltk_data]     C:\\Users\\alias\\AppData\\Roaming\\nltk_data...\n",
      "[nltk_data]   Package punkt is already up-to-date!\n"
     ]
    },
    {
     "data": {
      "text/plain": [
       "True"
      ]
     },
     "execution_count": 1,
     "metadata": {},
     "output_type": "execute_result"
    }
   ],
   "source": [
    "import re\n",
    "import nltk\n",
    "nltk.download('punkt')\n"
   ]
  },
  {
   "cell_type": "code",
   "execution_count": null,
   "id": "58fddee6-9ee1-4083-aa8b-0b00f570930b",
   "metadata": {},
   "outputs": [
    {
     "name": "stdout",
     "output_type": "stream",
     "text": [
      "Welcome to the chatbot! Type 'exit' to end the chat.\n"
     ]
    },
    {
     "name": "stdin",
     "output_type": "stream",
     "text": [
      "You:  hi\n"
     ]
    },
    {
     "name": "stdout",
     "output_type": "stream",
     "text": [
      "Chatbot: Hello! How can I assist you today?\n"
     ]
    },
    {
     "name": "stdin",
     "output_type": "stream",
     "text": [
      "You:  how are you\n"
     ]
    },
    {
     "name": "stdout",
     "output_type": "stream",
     "text": [
      "Chatbot: I'm just a bot, but I'm doing great! How can I help you?\n"
     ]
    },
    {
     "name": "stdin",
     "output_type": "stream",
     "text": [
      "You:  okay bye\n"
     ]
    },
    {
     "name": "stdout",
     "output_type": "stream",
     "text": [
      "Chatbot: Goodbye! Have a great day!\n"
     ]
    }
   ],
   "source": [
    "def chatbot_response(user_input):\n",
    "    # Define patterns and responses\n",
    "    patterns_responses = {\n",
    "        r'hello|hi': \"Hello! How can I assist you today?\",\n",
    "        r'how are you': \"I'm just a bot, but I'm doing great! How can I help you?\",\n",
    "        r'what is your name': \"I am a simple chatbot created to assist you.\",\n",
    "        r'bye|goodbye': \"Goodbye! Have a great day!\",\n",
    "        r'help': \"Sure, I can help with various queries. Just ask me something.\"\n",
    "    }\n",
    "\n",
    "    # Convert user input to lowercase\n",
    "    user_input = user_input.lower()\n",
    "\n",
    "    # Check for matching patterns\n",
    "    for pattern, response in patterns_responses.items():\n",
    "        if re.search(pattern, user_input):\n",
    "            return response\n",
    "\n",
    "    # Default response\n",
    "    return \"I'm sorry, I don't understand that. Can you please rephrase?\"\n",
    "\n",
    "# Function to simulate a chat session\n",
    "def chat_session():\n",
    "    print(\"Welcome to the chatbot! Type 'exit' to end the chat.\")\n",
    "    while True:\n",
    "        user_input = input(\"You: \")\n",
    "        if user_input.lower() == \"exit\":\n",
    "            print(\"Chatbot: Goodbye!\")\n",
    "            break\n",
    "        response = chatbot_response(user_input)\n",
    "        print(\"Chatbot:\", response)\n",
    "\n",
    "# Run the chat session\n",
    "chat_session()"
   ]
  },
  {
   "cell_type": "code",
   "execution_count": null,
   "id": "9e7bc66b-bb33-4cde-a9f5-e2e0de3f634c",
   "metadata": {},
   "outputs": [],
   "source": []
  }
 ],
 "metadata": {
  "kernelspec": {
   "display_name": "Python 3 (ipykernel)",
   "language": "python",
   "name": "python3"
  },
  "language_info": {
   "codemirror_mode": {
    "name": "ipython",
    "version": 3
   },
   "file_extension": ".py",
   "mimetype": "text/x-python",
   "name": "python",
   "nbconvert_exporter": "python",
   "pygments_lexer": "ipython3",
   "version": "3.12.4"
  }
 },
 "nbformat": 4,
 "nbformat_minor": 5
}
