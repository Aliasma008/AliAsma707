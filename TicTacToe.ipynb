{
 "cells": [
  {
   "cell_type": "code",
   "execution_count": 21,
   "id": "7ff7cde0-2c97-4f3b-a9c8-a8a195e04981",
   "metadata": {},
   "outputs": [],
   "source": [
    "EMPTY = 0\n",
    "PLAYER_X = 1\n",
    "PLAYER_O = 2\n",
    "\n",
    "def create_board():\n",
    "    return [[EMPTY for _ in range(3)] for _ in range(3)]\n"
   ]
  },
  {
   "cell_type": "code",
   "execution_count": 22,
   "id": "1c5f3af5-c15a-4081-9fb6-6fffd0300060",
   "metadata": {},
   "outputs": [],
   "source": [
    "def check_winner(board, player):\n",
    "    # Check rows, columns and diagonals for a win\n",
    "    for row in range(3):\n",
    "        if all(cell == player for cell in board[row]):\n",
    "            return True\n",
    "    for col in range(3):\n",
    "        if all(board[row][col] == player for row in range(3)):\n",
    "            return True\n",
    "    if all(board[i][i] == player for i in range(3)) or all(board[i][2-i] == player for i in range(3)):\n",
    "        return True\n",
    "    return False\n",
    "\n",
    "def is_draw(board):\n",
    "    return all(cell != EMPTY for row in board for cell in row) and not check_winner(board, PLAYER_X) and not check_winner(board, PLAYER_O)\n"
   ]
  },
  {
   "cell_type": "code",
   "execution_count": 23,
   "id": "15ae35b2-5734-45a2-bb9d-791dd927c6cb",
   "metadata": {},
   "outputs": [],
   "source": [
    "def minimax(board, depth, is_maximizing):\n",
    "    if check_winner(board, PLAYER_X):\n",
    "        return 10 - depth\n",
    "    if check_winner(board, PLAYER_O):\n",
    "        return depth - 10\n",
    "    if is_draw(board):\n",
    "        return 0\n",
    "\n",
    "    if is_maximizing:\n",
    "        best_score = float('-inf')\n",
    "        for row in range(3):\n",
    "            for col in range(3):\n",
    "                if board[row][col] == EMPTY:\n",
    "                    board[row][col] = PLAYER_X\n",
    "                    score = minimax(board, depth + 1, False)\n",
    "                    board[row][col] = EMPTY\n",
    "                    best_score = max(score, best_score)\n",
    "        return best_score\n",
    "    else:\n",
    "        best_score = float('inf')\n",
    "        for row in range(3):\n",
    "            for col in range(3):\n",
    "                if board[row][col] == EMPTY:\n",
    "                    board[row][col] = PLAYER_O\n",
    "                    score = minimax(board, depth + 1, True)\n",
    "                    board[row][col] = EMPTY\n",
    "                    best_score = min(score, best_score)\n",
    "        return best_score\n"
   ]
  },
  {
   "cell_type": "code",
   "execution_count": 24,
   "id": "1d0d35e0-bd1f-4a12-8f32-53cbd58c2262",
   "metadata": {},
   "outputs": [],
   "source": [
    "\n",
    "def find_best_move(board):\n",
    "    best_score = float('-inf')\n",
    "    move = None\n",
    "    for row in range(3):\n",
    "        for col in range(3):\n",
    "            if board[row][col] == EMPTY:\n",
    "                board[row][col] = PLAYER_X\n",
    "                score = minimax(board, 0, False)\n",
    "                board[row][col] = EMPTY\n",
    "                if score > best_score:\n",
    "                    best_score = score\n",
    "                    move = (row, col)\n",
    "    return move\n"
   ]
  },
  {
   "cell_type": "markdown",
   "id": "e4e48019-386f-4134-b877-14c99cf7e90a",
   "metadata": {},
   "source": [
    "# def print_board(board):\n",
    "    symbols = {EMPTY: '.', PLAYER_X: 'X', PLAYER_O: 'O'}\n",
    "    for row in board:\n",
    "        print(' '.join(symbols[cell] for cell in row))\n",
    "    print()\n",
    "\n",
    "def play_game():\n",
    "    board = create_board()\n",
    "    current_player = PLAYER_X  # X starts the game\n",
    "\n",
    "    while True:\n",
    "        print_board(board)\n",
    "        if current_player == PLAYER_X:\n",
    "            print(\"AI's turn\")\n",
    "            move = find_best_move(board)\n",
    "            if move:\n",
    "                board[move[0]][move[1]] = PLAYER_X\n",
    "        else:\n",
    "            print(\"Your turn\")\n",
    "            row = int(input(\"Enter row (0-2): \"))\n",
    "            col = int(input(\"Enter column (0-2): \"))\n",
    "            if board[row][col] == EMPTY:\n",
    "                board[row][col] = PLAYER_O\n",
    "            else:\n",
    "                print(\"Invalid move. Try again.\")\n",
    "                continue\n",
    "\n",
    "        if check_winner(board, PLAYER_X):\n",
    "            print_board(board)\n",
    "            print(\"AI wins!\")\n",
    "            break\n",
    "        if check_winner(board, PLAYER_O):\n",
    "            print_board(board)\n",
    "            print(\"You win!\")\n",
    "            break\n",
    "        if is_draw(board):\n",
    "            print_board(board)\n",
    "            print(\"It's a draw!\")\n",
    "            break\n",
    "\n",
    "        current_player = PLAYER_X if current_player == PLAYER_O else PLAYER_O\n",
    "\n",
    "play_game()"
   ]
  },
  {
   "cell_type": "code",
   "execution_count": null,
   "id": "b2c86725-4d3e-4c4e-9217-58afc843df12",
   "metadata": {},
   "outputs": [
    {
     "name": "stdout",
     "output_type": "stream",
     "text": [
      ". . .\n",
      ". . .\n",
      ". . .\n",
      "\n",
      "AI's turn\n",
      "X . .\n",
      ". . .\n",
      ". . .\n",
      "\n",
      "Your turn\n"
     ]
    }
   ],
   "source": [
    "play_game()"
   ]
  },
  {
   "cell_type": "code",
   "execution_count": null,
   "id": "e26f5548-6a54-4765-9fe6-b4185a046f23",
   "metadata": {},
   "outputs": [],
   "source": []
  }
 ],
 "metadata": {
  "kernelspec": {
   "display_name": "Python 3 (ipykernel)",
   "language": "python",
   "name": "python3"
  },
  "language_info": {
   "codemirror_mode": {
    "name": "ipython",
    "version": 3
   },
   "file_extension": ".py",
   "mimetype": "text/x-python",
   "name": "python",
   "nbconvert_exporter": "python",
   "pygments_lexer": "ipython3",
   "version": "3.12.4"
  }
 },
 "nbformat": 4,
 "nbformat_minor": 5
}
